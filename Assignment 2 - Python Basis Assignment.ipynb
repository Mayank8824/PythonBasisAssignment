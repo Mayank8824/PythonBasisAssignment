{
 "cells": [
  {
   "cell_type": "code",
   "execution_count": null,
   "id": "1e66cc2e",
   "metadata": {},
   "outputs": [],
   "source": [
    "Q1 - What are the two values of the Boolean data type? How do you write them?"
   ]
  },
  {
   "cell_type": "code",
   "execution_count": null,
   "id": "d3f3a46b",
   "metadata": {},
   "outputs": [],
   "source": [
    "Ans1- In Python, the Boolean data type has two possible values: true (1) or false (0).\n",
    "      These values are crucial for performing logical operations, making decisions, and controlling the flow of your Python programs.\n",
    "        \n",
    "      And,we can write them using True and False, using capital T and F, with the rest of the word in lowercase "
   ]
  },
  {
   "cell_type": "code",
   "execution_count": null,
   "id": "f710bdc3",
   "metadata": {},
   "outputs": [],
   "source": [
    "Q2 - What are the three different types of Boolean operators?"
   ]
  },
  {
   "cell_type": "code",
   "execution_count": null,
   "id": "d7d525c2",
   "metadata": {},
   "outputs": [],
   "source": [
    "Ans2- There are primary three types of Boolean operators used evaluate Boolean values and expressions. These operators are:\n",
    "\n",
    "1.  Logical AND (and): This operator returns True if both operands are True, otherwise, it returns False.\n",
    "    result = True and False  # Evaluates to False\n",
    "\n",
    "2.  Logical OR (or): This operator returns True if at least one of the operands is True, otherwise, it returns False.\n",
    "    result = True or False  # Evaluates to True\n",
    "\n",
    "3.  Logical NOT (not): This operator returns the negation of the operand's value. If the operand is True, it returns False, and if the operand is False, it returns True.\n",
    "    result = not True  # Evaluates to False"
   ]
  },
  {
   "cell_type": "code",
   "execution_count": null,
   "id": "c9d993fc",
   "metadata": {},
   "outputs": [],
   "source": [
    "Q3 - Make a list of each Boolean operator's truth tables (i.e. every possible combination of Boolean\n",
    "values for the operator and what it evaluate)."
   ]
  },
  {
   "cell_type": "code",
   "execution_count": null,
   "id": "c25cdf92",
   "metadata": {},
   "outputs": [],
   "source": [
    "Ans3- Here are the truth tables for the three main Boolean operators (and, or, and not) :\n",
    "    \n",
    "      1. Logical AND (and):\n",
    "            \n",
    "         Operand1 Operand2 Result\n",
    "         True     True     True\n",
    "         True     False    False\n",
    "         False    True     False\n",
    "         False    False    False\n",
    "        \n",
    "      2. Logical OR (or):\n",
    "\n",
    "         Operand1  Operand2  Result\n",
    "         True      True      True\n",
    "         True      False     True\n",
    "         False     True      True\n",
    "         False     False     False\n",
    " \n",
    "      3. Logical NOT (not):\n",
    "\n",
    "         Operand    Result\n",
    "         True       False\n",
    "         False      True \n"
   ]
  },
  {
   "cell_type": "code",
   "execution_count": null,
   "id": "6c754a17",
   "metadata": {},
   "outputs": [],
   "source": [
    "Q4 - What are the values of the following expressions?\n",
    "\n",
    "(5>4) and (3==5)\n",
    "not(5>4)\n",
    "(5>4) or (3==5)\n",
    "not(5>4) or (3==5)\n",
    "(True and True) and (True==False)\n",
    "(not(False))or(not(True))\n"
   ]
  },
  {
   "cell_type": "code",
   "execution_count": null,
   "id": "3817255e",
   "metadata": {},
   "outputs": [],
   "source": [
    "Ans4-  \n",
    "\n",
    "False\n",
    "False\n",
    "True\n",
    "False\n",
    "False\n",
    "True"
   ]
  },
  {
   "cell_type": "code",
   "execution_count": null,
   "id": "62c19f88",
   "metadata": {},
   "outputs": [],
   "source": [
    "Q5 - What are the six comparison operators?"
   ]
  },
  {
   "cell_type": "code",
   "execution_count": null,
   "id": "25632ba3",
   "metadata": {},
   "outputs": [],
   "source": [
    "Ans5- There are six comparison operators used to compare values and determine the relationships between them. These operators return Boolean values (True or False). The six comparison operators are:\n",
    "\n",
    "\n",
    "1. Equal to (==): Checks if two values are equal.\n",
    "x == y  # Returns True if x is equal to y, otherwise False\n",
    "\n",
    "2. Not equal to (!=): Checks if two values are not equal.\n",
    "x != y  # Returns True if x is not equal to y, otherwise False\n",
    "\n",
    "3. Greater than (>): Checks if the left value is greater than the right value.\n",
    "x > y  # Returns True if x is greater than y, otherwise False\n",
    "\n",
    "4. Less than (<): Checks if the left value is less than the right value.\n",
    "x < y  # Returns True if x is less than y, otherwise False\n",
    "\n",
    "5.Greater than or equal to (>=): Checks if the left value is greater than or equal to the right value.\n",
    "x >= y  # Returns True if x is greater than or equal to y, otherwise False\n",
    "\n",
    "6. Less than or equal to (<=): Checks if the left value is less than or equal to the right value.\n",
    "x <= y  # Returns True if x is less than or equal to y, otherwise False\n"
   ]
  },
  {
   "cell_type": "code",
   "execution_count": null,
   "id": "bb93c6d2",
   "metadata": {},
   "outputs": [],
   "source": [
    "Q6 - How do you tell the difference between the equal to and assignment operators?Describe a\n",
    "condition and when you would use one."
   ]
  },
  {
   "cell_type": "code",
   "execution_count": null,
   "id": "804db36c",
   "metadata": {},
   "outputs": [],
   "source": [
    "Ans6- \n",
    "\n",
    "1. Equal To (==) Operator:\n",
    "The equal to operator (==) is used to compare two values to check if they are equal. It returns True if the values are equal and False otherwise.\n",
    "x == y  # Returns True if x is equal to y, otherwise False\n",
    "\n",
    "Example:\n",
    "age = 25\n",
    "if age == 18:\n",
    "    print(\"You are of voting age.\")\n",
    "else:\n",
    "    print(\"You are not yet of voting age.\")\n",
    "In this example, the == operator is used to compare the age variable to the value 18 to determine if the person is of voting age.\n",
    "\n",
    "\n",
    "2. Assignment (=) Operator:\n",
    "The assignment operator (=) is used to assign a value to a variable. It assigns the value on the right-hand side to the variable on the left-hand side.\n",
    "x = 10  # Assigns the value 10 to the variable x\n",
    "\n",
    "Example:\n",
    "name = \"Alice\"\n",
    "age = 30\n",
    "Here, the = operator is used to assign the value \"Alice\" to the variable name and the value 30 to the variable age.\n",
    "\n",
    "In summary, the equal to (==) operator is used for comparisons, while the assignment (=) operator is used for assigning values to variables. "
   ]
  },
  {
   "cell_type": "code",
   "execution_count": null,
   "id": "737d8704",
   "metadata": {},
   "outputs": [],
   "source": []
  },
  {
   "cell_type": "code",
   "execution_count": null,
   "id": "96ec7a17",
   "metadata": {},
   "outputs": [],
   "source": [
    "Q7 - Identify the three blocks in this code:\n",
    "\n",
    "spam = 0\n",
    "if spam == 10:\n",
    "    print('eggs') #Block 1\n",
    "if spam > 5:\n",
    "    print('bacon') #Block 2\n",
    "else:\n",
    "    print('ham') #Block 3\n",
    "    print('spam')\n",
    "    print('spam')"
   ]
  },
  {
   "cell_type": "code",
   "execution_count": null,
   "id": "5234fc5f",
   "metadata": {},
   "outputs": [],
   "source": [
    "Ans7 - \n",
    "\n",
    "ham\n",
    "spam\n",
    "spam"
   ]
  },
  {
   "cell_type": "code",
   "execution_count": null,
   "id": "986f0385",
   "metadata": {},
   "outputs": [],
   "source": [
    "Q8 - Write code that prints Hello if 1 is stored in spam, prints Howdy if 2 is stored in spam, and prints\n",
    "Greetings! if anything else is stored in spam."
   ]
  },
  {
   "cell_type": "code",
   "execution_count": null,
   "id": "eab5ef29",
   "metadata": {},
   "outputs": [],
   "source": [
    "Ans8 - \n",
    "\n",
    "spam = int(input(\"Enter your choice\"))\n",
    "\n",
    "if spam == 1:\n",
    "    print(\"Hello\")\n",
    "elif spam == 2:\n",
    "    print(\"Howdy\")\n",
    "else:\n",
    "    print(\"Greetings!\")"
   ]
  },
  {
   "cell_type": "code",
   "execution_count": null,
   "id": "06ed4f2f",
   "metadata": {},
   "outputs": [],
   "source": [
    "Q9 - If your programme is stuck in an endless loop, what keys you’ll press?"
   ]
  },
  {
   "cell_type": "code",
   "execution_count": null,
   "id": "3291c46c",
   "metadata": {},
   "outputs": [],
   "source": [
    "Ans9- If your program is stuck in an endless loop and want to interrupt its execution in Python, \n",
    "      we can use the keyboard shortcut Ctrl + C.\n",
    "\n",
    "When we press Ctrl + C, the program will raise a KeyboardInterrupt exception, which will cause the program to stop running."
   ]
  },
  {
   "cell_type": "code",
   "execution_count": null,
   "id": "38f3165d",
   "metadata": {},
   "outputs": [],
   "source": [
    "Q10 - How can you tell the difference between break and continue? "
   ]
  },
  {
   "cell_type": "code",
   "execution_count": null,
   "id": "e1c238c8",
   "metadata": {},
   "outputs": [],
   "source": [
    "Ans10 - \n",
    "\n",
    "1. break Statement:\n",
    "\n",
    "The break statement is used to immediately exit the loop, regardless of whether the loop condition is still true or not.\n",
    "Usage: Typically used when a certain condition is met and you want to exit the loop prematurely.\n",
    "\n",
    "Example :\n",
    "for i in range(5):\n",
    "    if i == 3:\n",
    "        break\n",
    "    print(i)\n",
    "    \n",
    "Output :\n",
    "0\n",
    "1\n",
    "2\n",
    "\n",
    "2. continue Statement:\n",
    "\n",
    "The continue statement is used to skip the remaining code within the current iteration of the loop and move on to the next iteration.\n",
    "Usage: when we want to skip a specific iteration's execution based on a certain condition.\n",
    "\n",
    "for i in range(5):\n",
    "    if i == 3:\n",
    "        continue\n",
    "    print(i)\n",
    "    \n",
    "Output:\n",
    "0\n",
    "1\n",
    "2\n",
    "4"
   ]
  },
  {
   "cell_type": "code",
   "execution_count": null,
   "id": "1731ead6",
   "metadata": {},
   "outputs": [],
   "source": [
    "Q11 - In a for loop, what is the difference between range(10), range(0, 10), and range(0, 10, 1)?"
   ]
  },
  {
   "cell_type": "code",
   "execution_count": null,
   "id": "f911ed8d",
   "metadata": {},
   "outputs": [],
   "source": [
    "Ans11 - \n",
    "In a for loop, all three expressions range(10), range(0, 10), and range(0, 10, 1) are used to generate a sequence of numbers & They will all produce the same sequence of numbers from 0 to 9.\n",
    "\n",
    "1. range(10):\n",
    "This expression generates a sequence of numbers starting from 0 up to (but not including) 10. \n",
    "\n",
    "for i in range(10):\n",
    "    print(i)\n",
    "\n",
    "2. range(0, 10):\n",
    "This expression generates a sequence of numbers starting from 0 and ending at (but not including) 10. It explicitly specifies both the start and stop values.\n",
    "\n",
    "for i in range(0, 10):\n",
    "    print(i)\n",
    "\n",
    "3. range(0, 10, 1):\n",
    "This expression generates a sequence of numbers starting from 0, ending at (but not including) 10, and with a step size of 1. The step size determines how much the loop variable (e.g., i) is incremented in each iteration.\n",
    "\n",
    "for i in range(0, 10, 1):\n",
    "    print(i)\n",
    "    \n",
    "    \n",
    "OUTPUT Of above all three expressions are same i.e\n",
    "0\n",
    "1\n",
    "2\n",
    "3\n",
    "4\n",
    "5\n",
    "6\n",
    "7\n",
    "8\n",
    "9"
   ]
  },
  {
   "cell_type": "code",
   "execution_count": null,
   "id": "b6640083",
   "metadata": {},
   "outputs": [],
   "source": [
    "Q12 -  Write a short program that prints the numbers 1 to 10 using a for loop. Then write an equivalent\n",
    "program that prints the numbers 1 to 10 using a while loop."
   ]
  },
  {
   "cell_type": "code",
   "execution_count": null,
   "id": "12f78664",
   "metadata": {},
   "outputs": [],
   "source": [
    "Ans12 - \n",
    "\n",
    "Using for loop:\n",
    "for i in range(1,11):\n",
    "    print(i)\n",
    "\n",
    "Using while loop:\n",
    "a=1\n",
    "while(a<=10):\n",
    "    print(a)\n",
    "    a+=1"
   ]
  },
  {
   "cell_type": "code",
   "execution_count": null,
   "id": "a9d844b2",
   "metadata": {},
   "outputs": [],
   "source": [
    "Q13 - If you had a function named bacon() inside a module named spam, how would you call it after\n",
    "importing spam?"
   ]
  },
  {
   "cell_type": "code",
   "execution_count": null,
   "id": "cf9e9adc",
   "metadata": {},
   "outputs": [],
   "source": [
    "Ans13 - \n",
    "\n",
    "import spam\n",
    "\n",
    "spam.bacon()\n"
   ]
  }
 ],
 "metadata": {
  "kernelspec": {
   "display_name": "Python 3 (ipykernel)",
   "language": "python",
   "name": "python3"
  },
  "language_info": {
   "codemirror_mode": {
    "name": "ipython",
    "version": 3
   },
   "file_extension": ".py",
   "mimetype": "text/x-python",
   "name": "python",
   "nbconvert_exporter": "python",
   "pygments_lexer": "ipython3",
   "version": "3.11.3"
  }
 },
 "nbformat": 4,
 "nbformat_minor": 5
}
